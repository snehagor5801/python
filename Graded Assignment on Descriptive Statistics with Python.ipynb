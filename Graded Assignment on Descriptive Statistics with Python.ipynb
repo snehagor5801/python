{
 "cells": [
  {
   "cell_type": "markdown",
   "id": "7a25aa55",
   "metadata": {},
   "source": [
    "# Section 1"
   ]
  },
  {
   "cell_type": "markdown",
   "id": "c9f6e0fc",
   "metadata": {},
   "source": [
    "### Q:1"
   ]
  },
  {
   "cell_type": "markdown",
   "id": "5a1096db",
   "metadata": {},
   "source": [
    "* All 10 learners in the class has received similar scores of 85 in the statistics test.\n",
    "* The variance being zero indicates that there is no variability or spread in the scores; they are all exactly the same.\n",
    "* This suggests that there was consistency in performance among the students; no student scored higher or lower than 85.\n",
    "* This outcome where all learners scored 85 with no variation, is exceptionally rare in real-life situations and could be attributed to factors such as grading errors, an unusually simple test, or some unique circumstance."
   ]
  },
  {
   "cell_type": "markdown",
   "id": "e8c24996",
   "metadata": {},
   "source": [
    "### Q:2"
   ]
  },
  {
   "cell_type": "markdown",
   "id": "a28a30fd",
   "metadata": {},
   "source": [
    "* The mean house size is 2224 square feet.\n",
    "* The median house size is 1500 square feet.\n",
    "* This indicates positive skewness in the distribution of house sizes.\n",
    "* In a positively skewed distribution, such as this one, the mean is greater than the median.\n",
    "* This suggests the presence of a few houses with significantly larger sizes that are pulling the mean upward.\n",
    "* In this residential locality, there are more smaller houses clustered around the median size of 1500 square feet.\n",
    "* However, a few much larger houses are driving up the mean size to 2224 square feet.\n",
    "* To summarize the majority of houses in this locality are smaller in size but the presence of these larger houses skews the average size upward."
   ]
  },
  {
   "cell_type": "markdown",
   "id": "a05d7fca",
   "metadata": {},
   "source": [
    "### Q:3"
   ]
  },
  {
   "cell_type": "markdown",
   "id": "586be310",
   "metadata": {},
   "source": [
    "In this analysis, we want to compare the variability in expenditure for two different groups of people in relation to their respective mean expenditures. To do this, we will calculate the Coefficient of Variation (CV) for each group."
   ]
  },
  {
   "cell_type": "code",
   "execution_count": 1,
   "id": "f3ff60b3",
   "metadata": {},
   "outputs": [
    {
     "data": {
      "text/plain": [
       "(8.0, 8.0)"
      ]
     },
     "execution_count": 1,
     "metadata": {},
     "output_type": "execute_result"
    }
   ],
   "source": [
    "### for Group 1\n",
    "mean_group_1 = 500000\n",
    "std_dev_group_1 = 40000\n",
    "\n",
    "### for Group 2\n",
    "mean_group_2 = 125000\n",
    "std_dev_group_2 = 10000\n",
    "\n",
    "### Calculate the coefficient of variation (CV) for each group\n",
    "cv_group_1 = (std_dev_group_1 / mean_group_1) * 100\n",
    "cv_group_2 = (std_dev_group_2 / mean_group_2) * 100\n",
    "\n",
    "cv_group_1, cv_group_2"
   ]
  },
  {
   "cell_type": "markdown",
   "id": "5b50216e",
   "metadata": {},
   "source": [
    "* Both Group 1 and Group 2 have a coefficient of variation (CV) of 8%.\n",
    "* This indicates that the relative variability in expenditure with respect to their respective means is the same for both groups.\n",
    "* The identical CV values allow for a meaningful and fair comparison of expenditure variability between the two groups."
   ]
  },
  {
   "cell_type": "markdown",
   "id": "afb8bd29",
   "metadata": {},
   "source": [
    "### Q:4"
   ]
  },
  {
   "cell_type": "code",
   "execution_count": 2,
   "id": "f6f931a0",
   "metadata": {},
   "outputs": [],
   "source": [
    "import numpy as np\n",
    "import pandas as pd\n",
    "import matplotlib.pyplot as plt"
   ]
  },
  {
   "cell_type": "code",
   "execution_count": 92,
   "id": "8d347bc2",
   "metadata": {},
   "outputs": [],
   "source": [
    "data = {\"Age (in yrs.)\": ['5-15', '15-25', '25-35', '35-45', '45-55', '55-65'],\n",
    "        \"No. of Patients\": [6, 11, 21, 23, 14, 5]}\n",
    "\n",
    "df = pd.DataFrame(data)"
   ]
  },
  {
   "cell_type": "code",
   "execution_count": 93,
   "id": "f2a46ade",
   "metadata": {},
   "outputs": [
    {
     "name": "stdout",
     "output_type": "stream",
     "text": [
      "a. Class interval with highest frequency: 35-45\n"
     ]
    }
   ],
   "source": [
    "highest_frequency_interval = df['No. of Patients'].idxmax()\n",
    "print(\"a. Class interval with highest frequency:\", df.loc[highest_frequency_interval]['Age (in yrs.)'])"
   ]
  },
  {
   "cell_type": "code",
   "execution_count": 94,
   "id": "7ee6e65a",
   "metadata": {},
   "outputs": [
    {
     "name": "stdout",
     "output_type": "stream",
     "text": [
      "b. Age affected the least: 55-65\n"
     ]
    }
   ],
   "source": [
    "least_affected_age_interval = df['No. of Patients'].idxmin()\n",
    "print(\"b. Age affected the least:\", df.loc[least_affected_age_interval]['Age (in yrs.)'])"
   ]
  },
  {
   "cell_type": "code",
   "execution_count": 95,
   "id": "a03c7ce7",
   "metadata": {},
   "outputs": [
    {
     "name": "stdout",
     "output_type": "stream",
     "text": [
      "c. Patients of age 45 years and above: 14\n"
     ]
    }
   ],
   "source": [
    "age_45_and_above = df[df['Age (in yrs.)'].str.contains('45-')]['No. of Patients'].sum()\n",
    "print(\"c. Patients of age 45 years and above:\", age_45_and_above)"
   ]
  },
  {
   "cell_type": "code",
   "execution_count": 96,
   "id": "7cd3650a",
   "metadata": {},
   "outputs": [
    {
     "name": "stdout",
     "output_type": "stream",
     "text": [
      "d. Modal class interval: 35-45\n"
     ]
    }
   ],
   "source": [
    "modal_class_interval = df['No. of Patients'].idxmax()\n",
    "print(\"d. Modal class interval:\", df.loc[modal_class_interval]['Age (in yrs.)'])"
   ]
  },
  {
   "cell_type": "code",
   "execution_count": 97,
   "id": "550dbed2",
   "metadata": {},
   "outputs": [
    {
     "name": "stdout",
     "output_type": "stream",
     "text": [
      "e. Median class interval: 35-45\n"
     ]
    }
   ],
   "source": [
    "N = df['No. of Patients'].sum()\n",
    "CF = df['No. of Patients'].cumsum()\n",
    "median_interval_index = (CF >= N/2).idxmax()\n",
    "median_class_interval = df.loc[median_interval_index, 'Age (in yrs.)']\n",
    "print(\"e. Median class interval:\", median_class_interval)"
   ]
  },
  {
   "cell_type": "markdown",
   "id": "98534e18",
   "metadata": {},
   "source": [
    "### Q:5"
   ]
  },
  {
   "cell_type": "code",
   "execution_count": 98,
   "id": "4562f661",
   "metadata": {},
   "outputs": [],
   "source": [
    "years = [2015, 2016, 2017, 2018, 2019, 2020]\n",
    "returns = [0.36, 0.23, -0.48, -0.30, 0.15, 0.31]  # Convert percentages to decimal\n",
    "asset_prices = [5000, 6400, 7890, 9023, 4567, 3890]"
   ]
  },
  {
   "cell_type": "code",
   "execution_count": 99,
   "id": "6ab2273c",
   "metadata": {},
   "outputs": [
    {
     "name": "stdout",
     "output_type": "stream",
     "text": [
      "Average Return: 0.045000000000000005\n"
     ]
    }
   ],
   "source": [
    "# Calculate the Average Return\n",
    "average_return = np.mean(returns)\n",
    "print(\"Average Return:\", average_return)"
   ]
  },
  {
   "cell_type": "code",
   "execution_count": 100,
   "id": "c7648924",
   "metadata": {},
   "outputs": [
    {
     "name": "stdout",
     "output_type": "stream",
     "text": [
      "Weighted Average Return: -0.26623\n"
     ]
    }
   ],
   "source": [
    "# Calculate Weighted Average\n",
    "weighted_returns = []\n",
    "for r, p in zip(returns, asset_prices):\n",
    "    weighted_returns.append(r * p / 5000)\n",
    "\n",
    "weighted_average_return = np.sum(weighted_returns)\n",
    "print(\"Weighted Average Return:\", weighted_average_return)"
   ]
  },
  {
   "cell_type": "markdown",
   "id": "11d6fd2d",
   "metadata": {},
   "source": [
    "### Q:6"
   ]
  },
  {
   "cell_type": "code",
   "execution_count": 12,
   "id": "8c6c9e23",
   "metadata": {},
   "outputs": [
    {
     "name": "stdout",
     "output_type": "stream",
     "text": [
      "\n",
      "Strategy for Estimating Average Height of Males on Earth:\n",
      "1. Sampling: Select a representative sample of males.\n",
      "2. Random Sampling: Ensure random selection to avoid bias.\n",
      "3. Data Collection: Measure heights using standardized methods.\n",
      "4. Data Analysis: Calculate the average height.\n",
      "\n"
     ]
    }
   ],
   "source": [
    "# Defining the strategy\n",
    "strategy = \"\"\"\n",
    "Strategy for Estimating Average Height of Males on Earth:\n",
    "1. Sampling: Select a representative sample of males.\n",
    "2. Random Sampling: Ensure random selection to avoid bias.\n",
    "3. Data Collection: Measure heights using standardized methods.\n",
    "4. Data Analysis: Calculate the average height.\n",
    "\"\"\"\n",
    "print(strategy)"
   ]
  },
  {
   "cell_type": "code",
   "execution_count": 13,
   "id": "47e6a42c",
   "metadata": {},
   "outputs": [
    {
     "name": "stdout",
     "output_type": "stream",
     "text": [
      "\n",
      "- Parameter: The average height of all males on Earth.\n",
      "- Statistic: The average height calculated from the sample.\n",
      "\n"
     ]
    }
   ],
   "source": [
    "# Explaining parameter vs. statistic\n",
    "explanation = \"\"\"\n",
    "- Parameter: The average height of all males on Earth.\n",
    "- Statistic: The average height calculated from the sample.\n",
    "\"\"\"\n",
    "print(explanation)"
   ]
  },
  {
   "cell_type": "code",
   "execution_count": 101,
   "id": "6fcb4909",
   "metadata": {},
   "outputs": [
    {
     "name": "stdout",
     "output_type": "stream",
     "text": [
      "Estimated Average Height from the Sample: 175.0 cm\n"
     ]
    }
   ],
   "source": [
    "# Example data (replace with actual data)\n",
    "heights = [170, 175, 180, 165, 185]\n",
    "\n",
    "# Calculate the average height\n",
    "average_height = np.mean(heights)\n",
    "print(\"Estimated Average Height from the Sample:\", average_height, \"cm\")"
   ]
  },
  {
   "cell_type": "markdown",
   "id": "011b8e28",
   "metadata": {},
   "source": [
    "### Q:7"
   ]
  },
  {
   "cell_type": "code",
   "execution_count": 102,
   "id": "203bb2a6",
   "metadata": {},
   "outputs": [],
   "source": [
    "X = [4.5, 6.2, 7.3, 9.1, 10.4, 11]\n",
    "mean_X = np.mean(X)\n",
    "std_dev_X = np.std(X)"
   ]
  },
  {
   "cell_type": "code",
   "execution_count": 103,
   "id": "b8fb94ca",
   "metadata": {},
   "outputs": [
    {
     "data": {
      "text/plain": [
       "[-1.553856019598407,\n",
       " -0.816677814951721,\n",
       " -0.3396801531215125,\n",
       " 0.44086147532791964,\n",
       " 1.004585984763621,\n",
       " 1.2647665275800983]"
      ]
     },
     "execution_count": 103,
     "metadata": {},
     "output_type": "execute_result"
    }
   ],
   "source": [
    "z_scores = [(x - mean_X) / std_dev_X for x in X]\n",
    "z_scores"
   ]
  },
  {
   "cell_type": "markdown",
   "id": "b5a300dc",
   "metadata": {},
   "source": [
    "---"
   ]
  },
  {
   "cell_type": "markdown",
   "id": "aeeb6dbe",
   "metadata": {},
   "source": [
    "# Section 2\n"
   ]
  },
  {
   "cell_type": "code",
   "execution_count": 104,
   "id": "1255e672",
   "metadata": {},
   "outputs": [
    {
     "name": "stderr",
     "output_type": "stream",
     "text": [
      "C:\\Users\\Sneha Mayur Gor\\anaconda3\\Lib\\site-packages\\openpyxl\\worksheet\\_read_only.py:79: UserWarning: Unknown extension is not supported and will be removed\n",
      "  for idx, row in parser.parse():\n"
     ]
    }
   ],
   "source": [
    "df = pd.read_excel(r\"C:\\Users\\Sneha Mayur Gor\\Downloads\\Bank Personal Loan Modelling.xlsx\",sheet_name=\"Data\")"
   ]
  },
  {
   "cell_type": "code",
   "execution_count": 105,
   "id": "65b4e34b",
   "metadata": {},
   "outputs": [
    {
     "data": {
      "text/html": [
       "<div>\n",
       "<style scoped>\n",
       "    .dataframe tbody tr th:only-of-type {\n",
       "        vertical-align: middle;\n",
       "    }\n",
       "\n",
       "    .dataframe tbody tr th {\n",
       "        vertical-align: top;\n",
       "    }\n",
       "\n",
       "    .dataframe thead th {\n",
       "        text-align: right;\n",
       "    }\n",
       "</style>\n",
       "<table border=\"1\" class=\"dataframe\">\n",
       "  <thead>\n",
       "    <tr style=\"text-align: right;\">\n",
       "      <th></th>\n",
       "      <th>ID</th>\n",
       "      <th>Age</th>\n",
       "      <th>Experience</th>\n",
       "      <th>Income</th>\n",
       "      <th>ZIP Code</th>\n",
       "      <th>Family</th>\n",
       "      <th>CCAvg</th>\n",
       "      <th>Education</th>\n",
       "      <th>Mortgage</th>\n",
       "      <th>Personal Loan</th>\n",
       "      <th>Securities Account</th>\n",
       "      <th>CD Account</th>\n",
       "      <th>Online</th>\n",
       "      <th>CreditCard</th>\n",
       "    </tr>\n",
       "  </thead>\n",
       "  <tbody>\n",
       "    <tr>\n",
       "      <th>0</th>\n",
       "      <td>1</td>\n",
       "      <td>25</td>\n",
       "      <td>1</td>\n",
       "      <td>49</td>\n",
       "      <td>91107</td>\n",
       "      <td>4</td>\n",
       "      <td>1.6</td>\n",
       "      <td>1</td>\n",
       "      <td>0</td>\n",
       "      <td>0</td>\n",
       "      <td>1</td>\n",
       "      <td>0</td>\n",
       "      <td>0</td>\n",
       "      <td>0</td>\n",
       "    </tr>\n",
       "    <tr>\n",
       "      <th>1</th>\n",
       "      <td>2</td>\n",
       "      <td>45</td>\n",
       "      <td>19</td>\n",
       "      <td>34</td>\n",
       "      <td>90089</td>\n",
       "      <td>3</td>\n",
       "      <td>1.5</td>\n",
       "      <td>1</td>\n",
       "      <td>0</td>\n",
       "      <td>0</td>\n",
       "      <td>1</td>\n",
       "      <td>0</td>\n",
       "      <td>0</td>\n",
       "      <td>0</td>\n",
       "    </tr>\n",
       "    <tr>\n",
       "      <th>2</th>\n",
       "      <td>3</td>\n",
       "      <td>39</td>\n",
       "      <td>15</td>\n",
       "      <td>11</td>\n",
       "      <td>94720</td>\n",
       "      <td>1</td>\n",
       "      <td>1.0</td>\n",
       "      <td>1</td>\n",
       "      <td>0</td>\n",
       "      <td>0</td>\n",
       "      <td>0</td>\n",
       "      <td>0</td>\n",
       "      <td>0</td>\n",
       "      <td>0</td>\n",
       "    </tr>\n",
       "    <tr>\n",
       "      <th>3</th>\n",
       "      <td>4</td>\n",
       "      <td>35</td>\n",
       "      <td>9</td>\n",
       "      <td>100</td>\n",
       "      <td>94112</td>\n",
       "      <td>1</td>\n",
       "      <td>2.7</td>\n",
       "      <td>2</td>\n",
       "      <td>0</td>\n",
       "      <td>0</td>\n",
       "      <td>0</td>\n",
       "      <td>0</td>\n",
       "      <td>0</td>\n",
       "      <td>0</td>\n",
       "    </tr>\n",
       "    <tr>\n",
       "      <th>4</th>\n",
       "      <td>5</td>\n",
       "      <td>35</td>\n",
       "      <td>8</td>\n",
       "      <td>45</td>\n",
       "      <td>91330</td>\n",
       "      <td>4</td>\n",
       "      <td>1.0</td>\n",
       "      <td>2</td>\n",
       "      <td>0</td>\n",
       "      <td>0</td>\n",
       "      <td>0</td>\n",
       "      <td>0</td>\n",
       "      <td>0</td>\n",
       "      <td>1</td>\n",
       "    </tr>\n",
       "    <tr>\n",
       "      <th>...</th>\n",
       "      <td>...</td>\n",
       "      <td>...</td>\n",
       "      <td>...</td>\n",
       "      <td>...</td>\n",
       "      <td>...</td>\n",
       "      <td>...</td>\n",
       "      <td>...</td>\n",
       "      <td>...</td>\n",
       "      <td>...</td>\n",
       "      <td>...</td>\n",
       "      <td>...</td>\n",
       "      <td>...</td>\n",
       "      <td>...</td>\n",
       "      <td>...</td>\n",
       "    </tr>\n",
       "    <tr>\n",
       "      <th>4995</th>\n",
       "      <td>4996</td>\n",
       "      <td>29</td>\n",
       "      <td>3</td>\n",
       "      <td>40</td>\n",
       "      <td>92697</td>\n",
       "      <td>1</td>\n",
       "      <td>1.9</td>\n",
       "      <td>3</td>\n",
       "      <td>0</td>\n",
       "      <td>0</td>\n",
       "      <td>0</td>\n",
       "      <td>0</td>\n",
       "      <td>1</td>\n",
       "      <td>0</td>\n",
       "    </tr>\n",
       "    <tr>\n",
       "      <th>4996</th>\n",
       "      <td>4997</td>\n",
       "      <td>30</td>\n",
       "      <td>4</td>\n",
       "      <td>15</td>\n",
       "      <td>92037</td>\n",
       "      <td>4</td>\n",
       "      <td>0.4</td>\n",
       "      <td>1</td>\n",
       "      <td>85</td>\n",
       "      <td>0</td>\n",
       "      <td>0</td>\n",
       "      <td>0</td>\n",
       "      <td>1</td>\n",
       "      <td>0</td>\n",
       "    </tr>\n",
       "    <tr>\n",
       "      <th>4997</th>\n",
       "      <td>4998</td>\n",
       "      <td>63</td>\n",
       "      <td>39</td>\n",
       "      <td>24</td>\n",
       "      <td>93023</td>\n",
       "      <td>2</td>\n",
       "      <td>0.3</td>\n",
       "      <td>3</td>\n",
       "      <td>0</td>\n",
       "      <td>0</td>\n",
       "      <td>0</td>\n",
       "      <td>0</td>\n",
       "      <td>0</td>\n",
       "      <td>0</td>\n",
       "    </tr>\n",
       "    <tr>\n",
       "      <th>4998</th>\n",
       "      <td>4999</td>\n",
       "      <td>65</td>\n",
       "      <td>40</td>\n",
       "      <td>49</td>\n",
       "      <td>90034</td>\n",
       "      <td>3</td>\n",
       "      <td>0.5</td>\n",
       "      <td>2</td>\n",
       "      <td>0</td>\n",
       "      <td>0</td>\n",
       "      <td>0</td>\n",
       "      <td>0</td>\n",
       "      <td>1</td>\n",
       "      <td>0</td>\n",
       "    </tr>\n",
       "    <tr>\n",
       "      <th>4999</th>\n",
       "      <td>5000</td>\n",
       "      <td>28</td>\n",
       "      <td>4</td>\n",
       "      <td>83</td>\n",
       "      <td>92612</td>\n",
       "      <td>3</td>\n",
       "      <td>0.8</td>\n",
       "      <td>1</td>\n",
       "      <td>0</td>\n",
       "      <td>0</td>\n",
       "      <td>0</td>\n",
       "      <td>0</td>\n",
       "      <td>1</td>\n",
       "      <td>1</td>\n",
       "    </tr>\n",
       "  </tbody>\n",
       "</table>\n",
       "<p>5000 rows × 14 columns</p>\n",
       "</div>"
      ],
      "text/plain": [
       "        ID  Age  Experience  Income  ZIP Code  Family  CCAvg  Education  \\\n",
       "0        1   25           1      49     91107       4    1.6          1   \n",
       "1        2   45          19      34     90089       3    1.5          1   \n",
       "2        3   39          15      11     94720       1    1.0          1   \n",
       "3        4   35           9     100     94112       1    2.7          2   \n",
       "4        5   35           8      45     91330       4    1.0          2   \n",
       "...    ...  ...         ...     ...       ...     ...    ...        ...   \n",
       "4995  4996   29           3      40     92697       1    1.9          3   \n",
       "4996  4997   30           4      15     92037       4    0.4          1   \n",
       "4997  4998   63          39      24     93023       2    0.3          3   \n",
       "4998  4999   65          40      49     90034       3    0.5          2   \n",
       "4999  5000   28           4      83     92612       3    0.8          1   \n",
       "\n",
       "      Mortgage  Personal Loan  Securities Account  CD Account  Online  \\\n",
       "0            0              0                   1           0       0   \n",
       "1            0              0                   1           0       0   \n",
       "2            0              0                   0           0       0   \n",
       "3            0              0                   0           0       0   \n",
       "4            0              0                   0           0       0   \n",
       "...        ...            ...                 ...         ...     ...   \n",
       "4995         0              0                   0           0       1   \n",
       "4996        85              0                   0           0       1   \n",
       "4997         0              0                   0           0       0   \n",
       "4998         0              0                   0           0       1   \n",
       "4999         0              0                   0           0       1   \n",
       "\n",
       "      CreditCard  \n",
       "0              0  \n",
       "1              0  \n",
       "2              0  \n",
       "3              0  \n",
       "4              1  \n",
       "...          ...  \n",
       "4995           0  \n",
       "4996           0  \n",
       "4997           0  \n",
       "4998           0  \n",
       "4999           1  \n",
       "\n",
       "[5000 rows x 14 columns]"
      ]
     },
     "execution_count": 105,
     "metadata": {},
     "output_type": "execute_result"
    }
   ],
   "source": [
    "df"
   ]
  },
  {
   "cell_type": "code",
   "execution_count": 106,
   "id": "b2a14067",
   "metadata": {},
   "outputs": [],
   "source": [
    "import numpy as np\n",
    "import pandas as pd\n",
    "import matplotlib.pyplot as plt\n",
    "import seaborn as sns\n",
    "from scipy import stats"
   ]
  },
  {
   "cell_type": "markdown",
   "id": "82e1dd47",
   "metadata": {},
   "source": [
    "### Q:8"
   ]
  },
  {
   "cell_type": "code",
   "execution_count": 107,
   "id": "804e45ed",
   "metadata": {},
   "outputs": [
    {
     "data": {
      "text/html": [
       "<div>\n",
       "<style scoped>\n",
       "    .dataframe tbody tr th:only-of-type {\n",
       "        vertical-align: middle;\n",
       "    }\n",
       "\n",
       "    .dataframe tbody tr th {\n",
       "        vertical-align: top;\n",
       "    }\n",
       "\n",
       "    .dataframe thead th {\n",
       "        text-align: right;\n",
       "    }\n",
       "</style>\n",
       "<table border=\"1\" class=\"dataframe\">\n",
       "  <thead>\n",
       "    <tr style=\"text-align: right;\">\n",
       "      <th></th>\n",
       "      <th>ID</th>\n",
       "      <th>Age</th>\n",
       "      <th>Experience</th>\n",
       "      <th>Income</th>\n",
       "      <th>ZIP Code</th>\n",
       "      <th>Family</th>\n",
       "      <th>CCAvg</th>\n",
       "      <th>Education</th>\n",
       "      <th>Mortgage</th>\n",
       "      <th>Personal Loan</th>\n",
       "      <th>Securities Account</th>\n",
       "      <th>CD Account</th>\n",
       "      <th>Online</th>\n",
       "      <th>CreditCard</th>\n",
       "    </tr>\n",
       "  </thead>\n",
       "  <tbody>\n",
       "    <tr>\n",
       "      <th>count</th>\n",
       "      <td>5000.000000</td>\n",
       "      <td>5000.000000</td>\n",
       "      <td>5000.000000</td>\n",
       "      <td>5000.000000</td>\n",
       "      <td>5000.000000</td>\n",
       "      <td>5000.000000</td>\n",
       "      <td>5000.000000</td>\n",
       "      <td>5000.000000</td>\n",
       "      <td>5000.000000</td>\n",
       "      <td>5000.000000</td>\n",
       "      <td>5000.000000</td>\n",
       "      <td>5000.00000</td>\n",
       "      <td>5000.000000</td>\n",
       "      <td>5000.000000</td>\n",
       "    </tr>\n",
       "    <tr>\n",
       "      <th>mean</th>\n",
       "      <td>2500.500000</td>\n",
       "      <td>45.338400</td>\n",
       "      <td>20.104600</td>\n",
       "      <td>73.774200</td>\n",
       "      <td>93152.503000</td>\n",
       "      <td>2.396400</td>\n",
       "      <td>1.937913</td>\n",
       "      <td>1.881000</td>\n",
       "      <td>56.498800</td>\n",
       "      <td>0.096000</td>\n",
       "      <td>0.104400</td>\n",
       "      <td>0.06040</td>\n",
       "      <td>0.596800</td>\n",
       "      <td>0.294000</td>\n",
       "    </tr>\n",
       "    <tr>\n",
       "      <th>std</th>\n",
       "      <td>1443.520003</td>\n",
       "      <td>11.463166</td>\n",
       "      <td>11.467954</td>\n",
       "      <td>46.033729</td>\n",
       "      <td>2121.852197</td>\n",
       "      <td>1.147663</td>\n",
       "      <td>1.747666</td>\n",
       "      <td>0.839869</td>\n",
       "      <td>101.713802</td>\n",
       "      <td>0.294621</td>\n",
       "      <td>0.305809</td>\n",
       "      <td>0.23825</td>\n",
       "      <td>0.490589</td>\n",
       "      <td>0.455637</td>\n",
       "    </tr>\n",
       "    <tr>\n",
       "      <th>min</th>\n",
       "      <td>1.000000</td>\n",
       "      <td>23.000000</td>\n",
       "      <td>-3.000000</td>\n",
       "      <td>8.000000</td>\n",
       "      <td>9307.000000</td>\n",
       "      <td>1.000000</td>\n",
       "      <td>0.000000</td>\n",
       "      <td>1.000000</td>\n",
       "      <td>0.000000</td>\n",
       "      <td>0.000000</td>\n",
       "      <td>0.000000</td>\n",
       "      <td>0.00000</td>\n",
       "      <td>0.000000</td>\n",
       "      <td>0.000000</td>\n",
       "    </tr>\n",
       "    <tr>\n",
       "      <th>25%</th>\n",
       "      <td>1250.750000</td>\n",
       "      <td>35.000000</td>\n",
       "      <td>10.000000</td>\n",
       "      <td>39.000000</td>\n",
       "      <td>91911.000000</td>\n",
       "      <td>1.000000</td>\n",
       "      <td>0.700000</td>\n",
       "      <td>1.000000</td>\n",
       "      <td>0.000000</td>\n",
       "      <td>0.000000</td>\n",
       "      <td>0.000000</td>\n",
       "      <td>0.00000</td>\n",
       "      <td>0.000000</td>\n",
       "      <td>0.000000</td>\n",
       "    </tr>\n",
       "    <tr>\n",
       "      <th>50%</th>\n",
       "      <td>2500.500000</td>\n",
       "      <td>45.000000</td>\n",
       "      <td>20.000000</td>\n",
       "      <td>64.000000</td>\n",
       "      <td>93437.000000</td>\n",
       "      <td>2.000000</td>\n",
       "      <td>1.500000</td>\n",
       "      <td>2.000000</td>\n",
       "      <td>0.000000</td>\n",
       "      <td>0.000000</td>\n",
       "      <td>0.000000</td>\n",
       "      <td>0.00000</td>\n",
       "      <td>1.000000</td>\n",
       "      <td>0.000000</td>\n",
       "    </tr>\n",
       "    <tr>\n",
       "      <th>75%</th>\n",
       "      <td>3750.250000</td>\n",
       "      <td>55.000000</td>\n",
       "      <td>30.000000</td>\n",
       "      <td>98.000000</td>\n",
       "      <td>94608.000000</td>\n",
       "      <td>3.000000</td>\n",
       "      <td>2.500000</td>\n",
       "      <td>3.000000</td>\n",
       "      <td>101.000000</td>\n",
       "      <td>0.000000</td>\n",
       "      <td>0.000000</td>\n",
       "      <td>0.00000</td>\n",
       "      <td>1.000000</td>\n",
       "      <td>1.000000</td>\n",
       "    </tr>\n",
       "    <tr>\n",
       "      <th>max</th>\n",
       "      <td>5000.000000</td>\n",
       "      <td>67.000000</td>\n",
       "      <td>43.000000</td>\n",
       "      <td>224.000000</td>\n",
       "      <td>96651.000000</td>\n",
       "      <td>4.000000</td>\n",
       "      <td>10.000000</td>\n",
       "      <td>3.000000</td>\n",
       "      <td>635.000000</td>\n",
       "      <td>1.000000</td>\n",
       "      <td>1.000000</td>\n",
       "      <td>1.00000</td>\n",
       "      <td>1.000000</td>\n",
       "      <td>1.000000</td>\n",
       "    </tr>\n",
       "  </tbody>\n",
       "</table>\n",
       "</div>"
      ],
      "text/plain": [
       "                ID          Age   Experience       Income      ZIP Code  \\\n",
       "count  5000.000000  5000.000000  5000.000000  5000.000000   5000.000000   \n",
       "mean   2500.500000    45.338400    20.104600    73.774200  93152.503000   \n",
       "std    1443.520003    11.463166    11.467954    46.033729   2121.852197   \n",
       "min       1.000000    23.000000    -3.000000     8.000000   9307.000000   \n",
       "25%    1250.750000    35.000000    10.000000    39.000000  91911.000000   \n",
       "50%    2500.500000    45.000000    20.000000    64.000000  93437.000000   \n",
       "75%    3750.250000    55.000000    30.000000    98.000000  94608.000000   \n",
       "max    5000.000000    67.000000    43.000000   224.000000  96651.000000   \n",
       "\n",
       "            Family        CCAvg    Education     Mortgage  Personal Loan  \\\n",
       "count  5000.000000  5000.000000  5000.000000  5000.000000    5000.000000   \n",
       "mean      2.396400     1.937913     1.881000    56.498800       0.096000   \n",
       "std       1.147663     1.747666     0.839869   101.713802       0.294621   \n",
       "min       1.000000     0.000000     1.000000     0.000000       0.000000   \n",
       "25%       1.000000     0.700000     1.000000     0.000000       0.000000   \n",
       "50%       2.000000     1.500000     2.000000     0.000000       0.000000   \n",
       "75%       3.000000     2.500000     3.000000   101.000000       0.000000   \n",
       "max       4.000000    10.000000     3.000000   635.000000       1.000000   \n",
       "\n",
       "       Securities Account  CD Account       Online   CreditCard  \n",
       "count         5000.000000  5000.00000  5000.000000  5000.000000  \n",
       "mean             0.104400     0.06040     0.596800     0.294000  \n",
       "std              0.305809     0.23825     0.490589     0.455637  \n",
       "min              0.000000     0.00000     0.000000     0.000000  \n",
       "25%              0.000000     0.00000     0.000000     0.000000  \n",
       "50%              0.000000     0.00000     1.000000     0.000000  \n",
       "75%              0.000000     0.00000     1.000000     1.000000  \n",
       "max              1.000000     1.00000     1.000000     1.000000  "
      ]
     },
     "execution_count": 107,
     "metadata": {},
     "output_type": "execute_result"
    }
   ],
   "source": [
    "summary = df.describe()\n",
    "summary"
   ]
  },
  {
   "cell_type": "markdown",
   "id": "c68e1af0",
   "metadata": {},
   "source": [
    "### Q:9"
   ]
  },
  {
   "cell_type": "code",
   "execution_count": 108,
   "id": "04cd98ac",
   "metadata": {},
   "outputs": [
    {
     "data": {
      "text/plain": [
       "Age           45.338400\n",
       "Experience    20.104600\n",
       "Income        73.774200\n",
       "CCAvg          1.937913\n",
       "Mortgage      56.498800\n",
       "dtype: float64"
      ]
     },
     "execution_count": 108,
     "metadata": {},
     "output_type": "execute_result"
    }
   ],
   "source": [
    "df[[\"Age\",\"Experience\",\"Income\",\"CCAvg\",\"Mortgage\"]].mean()"
   ]
  },
  {
   "cell_type": "code",
   "execution_count": 109,
   "id": "34111bc0",
   "metadata": {},
   "outputs": [
    {
     "data": {
      "text/plain": [
       "Age           45.0\n",
       "Experience    20.0\n",
       "Income        64.0\n",
       "CCAvg          1.5\n",
       "Mortgage       0.0\n",
       "dtype: float64"
      ]
     },
     "execution_count": 109,
     "metadata": {},
     "output_type": "execute_result"
    }
   ],
   "source": [
    "df[[\"Age\",\"Experience\",\"Income\",\"CCAvg\",\"Mortgage\"]].median()"
   ]
  },
  {
   "cell_type": "code",
   "execution_count": 110,
   "id": "30cfe934",
   "metadata": {},
   "outputs": [
    {
     "data": {
      "text/plain": [
       "Age           35.0\n",
       "Experience    32.0\n",
       "Income        44.0\n",
       "CCAvg          0.3\n",
       "Mortgage       0.0\n",
       "Name: 0, dtype: float64"
      ]
     },
     "execution_count": 110,
     "metadata": {},
     "output_type": "execute_result"
    }
   ],
   "source": [
    "df[[\"Age\",\"Experience\",\"Income\",\"CCAvg\",\"Mortgage\"]].mode().iloc[0]"
   ]
  },
  {
   "cell_type": "code",
   "execution_count": 111,
   "id": "4ed32456",
   "metadata": {},
   "outputs": [
    {
     "data": {
      "text/plain": [
       "Age             131.404166\n",
       "Experience      131.513962\n",
       "Income         2119.104235\n",
       "CCAvg             3.054337\n",
       "Mortgage      10345.697538\n",
       "dtype: float64"
      ]
     },
     "execution_count": 111,
     "metadata": {},
     "output_type": "execute_result"
    }
   ],
   "source": [
    "# variance_values\n",
    "df[[\"Age\",\"Experience\",\"Income\",\"CCAvg\",\"Mortgage\"]].var()"
   ]
  },
  {
   "cell_type": "code",
   "execution_count": 112,
   "id": "31068c68",
   "metadata": {},
   "outputs": [
    {
     "data": {
      "text/plain": [
       "Age            11.463166\n",
       "Experience     11.467954\n",
       "Income         46.033729\n",
       "CCAvg           1.747666\n",
       "Mortgage      101.713802\n",
       "dtype: float64"
      ]
     },
     "execution_count": 112,
     "metadata": {},
     "output_type": "execute_result"
    }
   ],
   "source": [
    "# std_deviation_values\n",
    "df[[\"Age\",\"Experience\",\"Income\",\"CCAvg\",\"Mortgage\"]].std()"
   ]
  },
  {
   "cell_type": "code",
   "execution_count": 113,
   "id": "2e459c44",
   "metadata": {},
   "outputs": [
    {
     "data": {
      "text/plain": [
       "Age            44.0\n",
       "Experience     46.0\n",
       "Income        216.0\n",
       "CCAvg          10.0\n",
       "Mortgage      635.0\n",
       "dtype: float64"
      ]
     },
     "execution_count": 113,
     "metadata": {},
     "output_type": "execute_result"
    }
   ],
   "source": [
    "# range_values\n",
    "df[[\"Age\",\"Experience\",\"Income\",\"CCAvg\",\"Mortgage\"]].max() - df[[\"Age\",\"Experience\",\"Income\",\"CCAvg\",\"Mortgage\"]].min()"
   ]
  },
  {
   "cell_type": "code",
   "execution_count": 114,
   "id": "b9a86d7d",
   "metadata": {},
   "outputs": [
    {
     "data": {
      "text/plain": [
       "Age            20.0\n",
       "Experience     20.0\n",
       "Income         59.0\n",
       "CCAvg           1.8\n",
       "Mortgage      101.0\n",
       "dtype: float64"
      ]
     },
     "execution_count": 114,
     "metadata": {},
     "output_type": "execute_result"
    }
   ],
   "source": [
    "# iqr_values \n",
    "df[[\"Age\",\"Experience\",\"Income\",\"CCAvg\",\"Mortgage\"]].quantile(0.75) - df[[\"Age\",\"Experience\",\"Income\",\"CCAvg\",\"Mortgage\"]].quantile(0.25)"
   ]
  },
  {
   "cell_type": "code",
   "execution_count": 115,
   "id": "ad1c42ae",
   "metadata": {},
   "outputs": [
    {
     "name": "stdout",
     "output_type": "stream",
     "text": [
      "                 Mean  Median  Mode      Variance  Std Deviation  Range    IQR\n",
      "Age         45.338400    45.0  35.0    131.404166      11.463166   44.0   20.0\n",
      "Experience  20.104600    20.0  32.0    131.513962      11.467954   46.0   20.0\n",
      "Income      73.774200    64.0  44.0   2119.104235      46.033729  216.0   59.0\n",
      "CCAvg        1.937913     1.5   0.3      3.054337       1.747666   10.0    1.8\n",
      "Mortgage    56.498800     0.0   0.0  10345.697538     101.713802  635.0  101.0\n"
     ]
    }
   ],
   "source": [
    "summary_stats = pd.DataFrame({\n",
    "    \"Mean\": df[[\"Age\",\"Experience\",\"Income\",\"CCAvg\",\"Mortgage\"]].mean(),\n",
    "    \"Median\": df[[\"Age\",\"Experience\",\"Income\",\"CCAvg\",\"Mortgage\"]].median(),\n",
    "    \"Mode\": df[[\"Age\",\"Experience\",\"Income\",\"CCAvg\",\"Mortgage\"]].mode().iloc[0],\n",
    "    \"Variance\": df[[\"Age\",\"Experience\",\"Income\",\"CCAvg\",\"Mortgage\"]].var(),\n",
    "    \"Std Deviation\": df[[\"Age\",\"Experience\",\"Income\",\"CCAvg\",\"Mortgage\"]].std(),\n",
    "    \"Range\": df[[\"Age\",\"Experience\",\"Income\",\"CCAvg\",\"Mortgage\"]].max() - df[[\"Age\",\"Experience\",\"Income\",\"CCAvg\",\"Mortgage\"]].min(),\n",
    "    \"IQR\": df[[\"Age\",\"Experience\",\"Income\",\"CCAvg\",\"Mortgage\"]].quantile(0.75) - df[[\"Age\",\"Experience\",\"Income\",\"CCAvg\",\"Mortgage\"]].quantile(0.25)\n",
    "})\n",
    "print(summary_stats)"
   ]
  },
  {
   "cell_type": "markdown",
   "id": "7e151178",
   "metadata": {},
   "source": [
    "### Q:10"
   ]
  },
  {
   "cell_type": "code",
   "execution_count": 116,
   "id": "846aac7c",
   "metadata": {},
   "outputs": [
    {
     "data": {
      "text/plain": [
       "0.994214856968332"
      ]
     },
     "execution_count": 116,
     "metadata": {},
     "output_type": "execute_result"
    }
   ],
   "source": [
    "df[\"Age\"].corr(df[\"Experience\"])"
   ]
  },
  {
   "cell_type": "code",
   "execution_count": 117,
   "id": "73afacbe",
   "metadata": {},
   "outputs": [
    {
     "data": {
      "image/png": "[encoded data removed]",
      "text/plain": [
       "<Figure size 800x600 with 1 Axes>"
      ]
     },
     "metadata": {},
     "output_type": "display_data"
    }
   ],
   "source": [
    "plt.figure(figsize=(8, 6))\n",
    "plt.scatter(df['Age'], df['Experience'], alpha=0.5)\n",
    "plt.title(f'Scatter Plot of Age vs. Experience (Correlation: {df[\"Age\"].corr(df[\"Experience\"]):.2f})')\n",
    "plt.xlabel('Age')\n",
    "plt.ylabel('Experience')\n",
    "plt.grid(True)\n",
    "plt.show()"
   ]
  },
  {
   "cell_type": "markdown",
   "id": "d8804a9f",
   "metadata": {},
   "source": [
    "### Q:11"
   ]
  },
  {
   "cell_type": "code",
   "execution_count": 118,
   "id": "3bf92ceb",
   "metadata": {},
   "outputs": [],
   "source": [
    "family_counts = df[\"Family\"].value_counts()"
   ]
  },
  {
   "cell_type": "code",
   "execution_count": 119,
   "id": "eed70202",
   "metadata": {},
   "outputs": [
    {
     "name": "stdout",
     "output_type": "stream",
     "text": [
      "The most frequent family size is 1 with 1472 occurrences.\n"
     ]
    }
   ],
   "source": [
    "most_frequent_family = family_counts.idxmax()\n",
    "most_frequent_family_count = family_counts.max()\n",
    "print(f\"The most frequent family size is {most_frequent_family} with {most_frequent_family_count} occurrences.\")"
   ]
  },
  {
   "cell_type": "markdown",
   "id": "6cff805d",
   "metadata": {},
   "source": [
    "### Q:12"
   ]
  },
  {
   "cell_type": "code",
   "execution_count": 120,
   "id": "4fb50700",
   "metadata": {},
   "outputs": [],
   "source": [
    "income_mean = df[\"Income\"].mean()\n",
    "income_std = df[\"Income\"].std()"
   ]
  },
  {
   "cell_type": "code",
   "execution_count": 121,
   "id": "70cc8a4e",
   "metadata": {},
   "outputs": [
    {
     "name": "stdout",
     "output_type": "stream",
     "text": [
      "Percentage of Variation in Income: 62.40%\n"
     ]
    }
   ],
   "source": [
    "cv = (income_std / income_mean) * 100\n",
    "print(f'Percentage of Variation in Income: {cv:.2f}%')"
   ]
  },
  {
   "cell_type": "markdown",
   "id": "12349886",
   "metadata": {},
   "source": [
    "### Q:13"
   ]
  },
  {
   "cell_type": "code",
   "execution_count": 122,
   "id": "7096e2b8",
   "metadata": {},
   "outputs": [
    {
     "data": {
      "text/plain": [
       "183.67620286085827"
      ]
     },
     "execution_count": 122,
     "metadata": {},
     "output_type": "execute_result"
    }
   ],
   "source": [
    "df[df['Mortgage'] > 0]['Mortgage'].mean()"
   ]
  },
  {
   "cell_type": "code",
   "execution_count": 123,
   "id": "661f17f8",
   "metadata": {},
   "outputs": [
    {
     "data": {
      "text/plain": [
       "0       183.676203\n",
       "1       183.676203\n",
       "2       183.676203\n",
       "3       183.676203\n",
       "4       183.676203\n",
       "           ...    \n",
       "4995    183.676203\n",
       "4996     85.000000\n",
       "4997    183.676203\n",
       "4998    183.676203\n",
       "4999    183.676203\n",
       "Name: Mortgage, Length: 5000, dtype: float64"
      ]
     },
     "execution_count": 123,
     "metadata": {},
     "output_type": "execute_result"
    }
   ],
   "source": [
    "df['Mortgage'].replace(0, df[df['Mortgage'] > 0]['Mortgage'].mean())"
   ]
  },
  {
   "cell_type": "markdown",
   "id": "425f226d",
   "metadata": {},
   "source": [
    "### Q:14"
   ]
  },
  {
   "cell_type": "code",
   "execution_count": 124,
   "id": "835fcfa3",
   "metadata": {},
   "outputs": [
    {
     "name": "stderr",
     "output_type": "stream",
     "text": [
      "C:\\Users\\Sneha Mayur Gor\\AppData\\Local\\Temp\\ipykernel_7120\\2405021487.py:3: FutureWarning: \n",
      "\n",
      "`shade` is now deprecated in favor of `fill`; setting `fill=True`.\n",
      "This will become an error in seaborn v0.14.0; please update your code.\n",
      "\n",
      "  sns.kdeplot(ccavg_data, shade=True, color='lightblue', label='Credit Card Holders')\n"
     ]
    },
    {
     "data": {
      "image/png": "[encoded data removed]",
      "text/plain": [
       "<Figure size 1000x600 with 1 Axes>"
      ]
     },
     "metadata": {},
     "output_type": "display_data"
    }
   ],
   "source": [
    "ccavg_data = df[df['CreditCard'] == 1]['CCAvg']\n",
    "plt.figure(figsize=(10, 6))\n",
    "sns.kdeplot(ccavg_data, shade=True, color='lightblue', label='Credit Card Holders')\n",
    "plt.title('Density Curve of CCAvg for Credit Card Holders')\n",
    "plt.xlabel('CCAvg (Credit Card Average)')\n",
    "plt.ylabel('Density')\n",
    "plt.legend()\n",
    "plt.show()"
   ]
  },
  {
   "cell_type": "markdown",
   "id": "5ea898b7",
   "metadata": {},
   "source": [
    "### Interpretation:\n",
    "The density curve indicates the distribution of 'CCAvg' values for customers who possess credit cards. Based on the plot:\n",
    "1. The distribution appears to be slightly right-skewed, with a peak around a certain credit card average value.\n",
    "2. Most credit card holders seem to have a credit card average value around the peak of the curve.\n",
    "3. There are relatively fewer customers with very high credit card average values, as seen by the tail on the right side of the curve.\n",
    "\n",
    "Overall, the density curve provides insights into the distribution of credit card average spending among credit card holders, with a majority having moderate to low average spending."
   ]
  },
  {
   "cell_type": "markdown",
   "id": "db30b6d1",
   "metadata": {},
   "source": [
    "### Q:15"
   ]
  },
  {
   "cell_type": "code",
   "execution_count": 125,
   "id": "355fbe9d",
   "metadata": {},
   "outputs": [
    {
     "data": {
      "image/png": "[encoded data removed]",
      "text/plain": [
       "<Figure size 900x500 with 1 Axes>"
      ]
     },
     "metadata": {},
     "output_type": "display_data"
    }
   ],
   "source": [
    "plt.figure(figsize=(9,5))\n",
    "sns.boxplot(data=df[[\"Age\",\"Experience\",\"Income\",\"CCAvg\",\"Mortgage\"]])\n",
    "plt.title(\"Box Plots for Quantitative Variables\")\n",
    "plt.xlabel(\"Variables\")\n",
    "plt.ylabel(\"Values\")\n",
    "plt.xticks(rotation=45)\n",
    "plt.show()"
   ]
  },
  {
   "cell_type": "markdown",
   "id": "ed67386c",
   "metadata": {},
   "source": [
    "### Q:16"
   ]
  },
  {
   "cell_type": "code",
   "execution_count": 126,
   "id": "a53f65e3",
   "metadata": {},
   "outputs": [
    {
     "name": "stdout",
     "output_type": "stream",
     "text": [
      "Decile Values for 'Income':\n",
      "0.1     22.0\n",
      "0.2     33.0\n",
      "0.3     42.0\n",
      "0.4     52.0\n",
      "0.5     64.0\n",
      "0.6     78.0\n",
      "0.7     88.3\n",
      "0.8    113.0\n",
      "0.9    145.0\n",
      "Name: Income, dtype: float64\n"
     ]
    }
   ],
   "source": [
    "decile_values = [i / 10 for i in range(1, 10)]  \n",
    "income_deciles = df['Income'].quantile(decile_values)\n",
    "print(\"Decile Values for 'Income':\")\n",
    "print(income_deciles)"
   ]
  },
  {
   "cell_type": "markdown",
   "id": "ff27f47d",
   "metadata": {},
   "source": [
    "### Q:17"
   ]
  },
  {
   "cell_type": "code",
   "execution_count": 127,
   "id": "6cdfbc8e",
   "metadata": {},
   "outputs": [],
   "source": [
    "Q1 = df[[\"Age\",\"Experience\",\"Income\",\"CCAvg\",\"Mortgage\"]].quantile(0.25)"
   ]
  },
  {
   "cell_type": "code",
   "execution_count": 128,
   "id": "dda11099",
   "metadata": {},
   "outputs": [
    {
     "name": "stdout",
     "output_type": "stream",
     "text": [
      "Q1 (25th Percentile) for Selected Variables:\n",
      "Age           35.0\n",
      "Experience    10.0\n",
      "Income        39.0\n",
      "CCAvg          0.7\n",
      "Mortgage       0.0\n",
      "Name: 0.25, dtype: float64\n"
     ]
    }
   ],
   "source": [
    "print(\"Q1 (25th Percentile) for Selected Variables:\")\n",
    "print(Q1)"
   ]
  },
  {
   "cell_type": "code",
   "execution_count": 129,
   "id": "66d91d3a",
   "metadata": {},
   "outputs": [],
   "source": [
    "Q2 = df[[\"Age\",\"Experience\",\"Income\",\"CCAvg\",\"Mortgage\"]].quantile(0.50)"
   ]
  },
  {
   "cell_type": "code",
   "execution_count": 130,
   "id": "1f15da50",
   "metadata": {},
   "outputs": [
    {
     "name": "stdout",
     "output_type": "stream",
     "text": [
      "Q2 (50th Percentile) for Selected Variables:\n",
      "Age           45.0\n",
      "Experience    20.0\n",
      "Income        64.0\n",
      "CCAvg          1.5\n",
      "Mortgage       0.0\n",
      "Name: 0.5, dtype: float64\n"
     ]
    }
   ],
   "source": [
    "print(\"Q2 (50th Percentile) for Selected Variables:\")\n",
    "print(Q2)"
   ]
  },
  {
   "cell_type": "code",
   "execution_count": 131,
   "id": "1ee7fcd8",
   "metadata": {},
   "outputs": [],
   "source": [
    "Q3 = df[[\"Age\",\"Experience\",\"Income\",\"CCAvg\",\"Mortgage\"]].quantile(0.75)"
   ]
  },
  {
   "cell_type": "code",
   "execution_count": 132,
   "id": "fc4c0789",
   "metadata": {},
   "outputs": [
    {
     "name": "stdout",
     "output_type": "stream",
     "text": [
      "Q3 (75th Percentile) for Selected Variables:\n",
      "Age            55.0\n",
      "Experience     30.0\n",
      "Income         98.0\n",
      "CCAvg           2.5\n",
      "Mortgage      101.0\n",
      "Name: 0.75, dtype: float64\n"
     ]
    }
   ],
   "source": [
    "print(\"Q3 (75th Percentile) for Selected Variables:\")\n",
    "print(Q3)"
   ]
  },
  {
   "cell_type": "code",
   "execution_count": 133,
   "id": "8561debb",
   "metadata": {},
   "outputs": [
    {
     "name": "stdout",
     "output_type": "stream",
     "text": [
      "Interquartile Ranges (IQR) for Selected Variables:\n",
      "Age            20.0\n",
      "Experience     20.0\n",
      "Income         59.0\n",
      "CCAvg           1.8\n",
      "Mortgage      101.0\n",
      "dtype: float64\n"
     ]
    }
   ],
   "source": [
    "IQR = Q3 - Q1\n",
    "print(\"Interquartile Ranges (IQR) for Selected Variables:\")\n",
    "print(IQR)"
   ]
  },
  {
   "cell_type": "markdown",
   "id": "4c2e02e3",
   "metadata": {},
   "source": [
    "### Q:18"
   ]
  },
  {
   "cell_type": "code",
   "execution_count": 134,
   "id": "9a2b4457",
   "metadata": {},
   "outputs": [],
   "source": [
    "income_groups = df.groupby('Income')['CCAvg'].mean().reset_index()"
   ]
  },
  {
   "cell_type": "code",
   "execution_count": 135,
   "id": "f3f54890",
   "metadata": {},
   "outputs": [
    {
     "name": "stdout",
     "output_type": "stream",
     "text": [
      "     Income     CCAvg\n",
      "0         8  0.428986\n",
      "1         9  0.384615\n",
      "2        10  0.481159\n",
      "3        11  0.402469\n",
      "4        12  0.522222\n",
      "..      ...       ...\n",
      "157     203  9.400000\n",
      "158     204  5.366667\n",
      "159     205  7.566667\n",
      "160     218  6.666667\n",
      "161     224  6.666667\n",
      "\n",
      "[162 rows x 2 columns]\n"
     ]
    }
   ],
   "source": [
    "income_groups = income_groups.sort_values(by='Income')\n",
    "print(income_groups)"
   ]
  },
  {
   "cell_type": "markdown",
   "id": "19570609",
   "metadata": {},
   "source": [
    "### Q:19"
   ]
  },
  {
   "cell_type": "code",
   "execution_count": 136,
   "id": "3b4bda6a",
   "metadata": {},
   "outputs": [
    {
     "name": "stdout",
     "output_type": "stream",
     "text": [
      "Number of customers using online banking: 2984\n"
     ]
    }
   ],
   "source": [
    "online_users = df[df['Online'] == 1]\n",
    "num_online_users = len(online_users)\n",
    "print(f\"Number of customers using online banking: {num_online_users}\")"
   ]
  },
  {
   "cell_type": "code",
   "execution_count": 137,
   "id": "cdab910e",
   "metadata": {},
   "outputs": [],
   "source": [
    "mean_income_online = online_users['Income'].mean()"
   ]
  },
  {
   "cell_type": "code",
   "execution_count": 138,
   "id": "28c8c43b",
   "metadata": {},
   "outputs": [
    {
     "name": "stdout",
     "output_type": "stream",
     "text": [
      "Mean income for online users: 74.31166219839142\n",
      "Mean income for non-online users: 72.97867063492063\n"
     ]
    }
   ],
   "source": [
    "non_online_users = df[df['Online'] == 0]\n",
    "mean_income_non_online = non_online_users['Income'].mean()\n",
    "print(f\"Mean income for online users: {mean_income_online}\")\n",
    "print(f\"Mean income for non-online users: {mean_income_non_online}\")"
   ]
  },
  {
   "cell_type": "markdown",
   "id": "5201440c",
   "metadata": {},
   "source": [
    "### Q:20"
   ]
  },
  {
   "cell_type": "code",
   "execution_count": 139,
   "id": "0776b910",
   "metadata": {},
   "outputs": [],
   "source": [
    "z_scores = stats.zscore(df['Income'])"
   ]
  },
  {
   "cell_type": "code",
   "execution_count": 140,
   "id": "9ea85f1f",
   "metadata": {},
   "outputs": [
    {
     "name": "stdout",
     "output_type": "stream",
     "text": [
      "Number of observations outside +-3σ: 2\n"
     ]
    }
   ],
   "source": [
    "outside_3_sigma = np.sum(np.abs(z_scores) > 3)\n",
    "print (f\"Number of observations outside +-3σ: {outside_3_sigma}\")"
   ]
  },
  {
   "cell_type": "markdown",
   "id": "43ff1031",
   "metadata": {},
   "source": [
    "***************************************************************************THE END********************************************"
   ]
  }
 ],
 "metadata": {
  "kernelspec": {
   "display_name": "Python 3 (ipykernel)",
   "language": "python",
   "name": "python3"
  },
  "language_info": {
   "codemirror_mode": {
    "name": "ipython",
    "version": 3
   },
   "file_extension": ".py",
   "mimetype": "text/x-python",
   "name": "python",
   "nbconvert_exporter": "python",
   "pygments_lexer": "ipython3",
   "version": "3.11.4"
  }
 },
 "nbformat": 4,
 "nbformat_minor": 5
}
